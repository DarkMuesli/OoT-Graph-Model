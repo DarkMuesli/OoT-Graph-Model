{
 "cells": [
  {
   "cell_type": "code",
   "execution_count": 1,
   "metadata": {
    "collapsed": true
   },
   "outputs": [
    {
     "name": "stdout",
     "output_type": "stream",
     "text": [
      "G_union = MultiDiGraph with 6753 nodes and 231826 edges\n",
      "G_w_sw = MultiDiGraph with 6753 nodes and 242256 edges\n",
      "G_w_dw = MultiDiGraph with 6753 nodes and 275129 edges\n",
      "G_w_songw = MultiDiGraph with 6753 nodes and 267190 edges\n",
      "G_w_aw = MultiDiGraph with 6753 nodes and 320923 edges\n",
      "nx.number_weakly_connected_components(G_union) = 124\n",
      "nx.number_weakly_connected_components(G_w_sw) = 4\n",
      "nx.number_weakly_connected_components(G_w_dw) = 102\n",
      "nx.number_weakly_connected_components(G_w_songw) = 17\n",
      "nx.number_weakly_connected_components(G_w_aw) = 1\n"
     ]
    }
   ],
   "source": [
    "import matplotlib.pyplot as plt\n",
    "import networkx as nx\n",
    "import pandas as pd\n",
    "\n",
    "import oot_graph_builder as ogb\n",
    "\n",
    "canvas_size = 120\n",
    "font_color = 'gray'\n",
    "font_size = 20\n",
    "font_weight = 'bold'\n",
    "\n",
    "all_actors_df = pd.read_csv(\"resources/VerboseOcarina/actors.csv\", sep=';')\n",
    "actors_no_cs = all_actors_df.loc[(all_actors_df['is_cutscene'] == False) &\n",
    "                                 (all_actors_df['scene'] != 68) &\n",
    "                                 (all_actors_df['scene'] != 71)]\n",
    "all_spawns_df = pd.read_csv(\"resources/VerboseOcarina/spawns.csv\", sep=';')\n",
    "spawns_no_cs = all_spawns_df.loc[(all_spawns_df['is_cutscene'] == False) &\n",
    "                                 (all_spawns_df['scene'] != 68) &\n",
    "                                 (all_spawns_df['scene'] != 71)]\n",
    "all_transition_actors_df = pd.read_csv(\"resources/VerboseOcarina/transition_actors.csv\", sep=';')\n",
    "transit_no_cs = all_transition_actors_df.loc[(all_transition_actors_df['is_cutscene'] == False) &\n",
    "                                             (all_transition_actors_df['scene'] != 68) &\n",
    "                                             (all_transition_actors_df['scene'] != 71)]\n",
    "\n",
    "# scenes = [38, 52, 39, 40, 85, 41, 45, 91, 0, 17]\n",
    "# scenes = [85]\n",
    "scenes = range(101)\n",
    "\n",
    "# setups = range(11)\n",
    "setups = range(4)\n",
    "# setups = (0,)\n",
    "\n",
    "cutscenes_included = (\n",
    "    False,\n",
    "    # True,\n",
    ")\n",
    "\n",
    "G_union, pos_dict_norm = ogb.build_scenes(spawns_no_cs,\n",
    "                                          actors_no_cs,\n",
    "                                          transit_no_cs,\n",
    "                                          scenes,\n",
    "                                          setups,\n",
    "                                          cutscenes_included,\n",
    "                                          ogb.BLUE_WARP_EDGE_LIST +\n",
    "                                          ogb.SCENE_TRANSITION_LIST\n",
    "                                          # ogb.SAMPLE_TRANSITION_LIST\n",
    "                                          )\n",
    "\n",
    "G_w_sw = ogb.add_save_warps(G_union)\n",
    "G_w_dw = ogb.add_death_warps(G_union)\n",
    "G_w_songw = ogb.add_song_warps(G_union)\n",
    "G_w_aw = ogb.add_death_warps(G_w_sw)\n",
    "G_w_aw = ogb.add_song_warps(G_w_aw)\n",
    "\n",
    "G_res = G_w_aw\n",
    "\n",
    "pos_dict = ogb.get_pos_dict(G_res)\n",
    "\n",
    "print(f\"{G_union = !s}\")\n",
    "print(f\"{G_w_sw = !s}\")\n",
    "print(f\"{G_w_dw = !s}\")\n",
    "print(f\"{G_w_songw = !s}\")\n",
    "print(f\"{G_w_aw = !s}\")\n",
    "print(f\"{nx.number_weakly_connected_components(G_union) = }\")\n",
    "print(f\"{nx.number_weakly_connected_components(G_w_sw) = }\")\n",
    "print(f\"{nx.number_weakly_connected_components(G_w_dw) = }\")\n",
    "print(f\"{nx.number_weakly_connected_components(G_w_songw) = }\")\n",
    "print(f\"{nx.number_weakly_connected_components(G_w_aw) = }\")\n"
   ]
  },
  {
   "cell_type": "code",
   "execution_count": null,
   "outputs": [],
   "source": [
    "plt.figure(figsize=(canvas_size, canvas_size))\n",
    "nx.draw(G_res,\n",
    "        pos_dict_norm,\n",
    "        arrows=False,\n",
    "        with_labels=False,\n",
    "        font_color=font_color,\n",
    "        font_size=font_size,\n",
    "        node_size=10\n",
    "        )\n",
    "# plt.savefig(\"output/graph_world_all_warps.pdf\")"
   ],
   "metadata": {
    "collapsed": false,
    "pycharm": {
     "name": "#%%\n",
     "is_executing": true
    }
   }
  },
  {
   "cell_type": "code",
   "execution_count": null,
   "outputs": [],
   "source": [
    "plt.figure(figsize=(canvas_size, canvas_size))\n",
    "pos_dict = nx.kamada_kawai_layout(G_res)\n",
    "nx.draw(G_res,\n",
    "        pos_dict,\n",
    "        arrows=False,\n",
    "        with_labels=False,\n",
    "        font_color=font_color,\n",
    "        font_size=font_size,\n",
    "        node_size=10\n",
    "        )\n",
    "# plt.savefig(\"output/graph_world_all_warps_kawai.pdf\")"
   ],
   "metadata": {
    "collapsed": false,
    "pycharm": {
     "name": "#%%\n",
     "is_executing": true
    }
   }
  }
 ],
 "metadata": {
  "kernelspec": {
   "display_name": "Python 3",
   "language": "python",
   "name": "python3"
  },
  "language_info": {
   "codemirror_mode": {
    "name": "ipython",
    "version": 2
   },
   "file_extension": ".py",
   "mimetype": "text/x-python",
   "name": "python",
   "nbconvert_exporter": "python",
   "pygments_lexer": "ipython2",
   "version": "2.7.6"
  }
 },
 "nbformat": 4,
 "nbformat_minor": 0
}