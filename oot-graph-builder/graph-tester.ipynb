{
 "cells": [
  {
   "cell_type": "code",
   "execution_count": 9,
   "metadata": {
    "collapsed": true
   },
   "outputs": [
    {
     "name": "stdout",
     "output_type": "stream",
     "text": [
      "scene = 12, setup = 0, is_cutscene = False: 6 strongly connected components\n",
      "scene = 14, setup = 0, is_cutscene = False: 4 strongly connected components\n",
      "scene = 62, setup = 0, is_cutscene = False: 14 strongly connected components\n",
      "scene = 76, setup = 0, is_cutscene = False: 2 strongly connected components\n",
      "There are 125 scene setups with 1 strongly connected component each.\n",
      "There are 6764 nodes in total.\n",
      "There are 231854 edges in total.\n"
     ]
    }
   ],
   "source": [
    "import networkx as nx\n",
    "import pandas as pd\n",
    "\n",
    "import oot_graph_builder as ogb\n",
    "\n",
    "all_actors_df = pd.read_csv(\"resources/VerboseOcarina/actors.csv\", sep=';')\n",
    "all_transition_actors_df = pd.read_csv(\"resources/VerboseOcarina/transition_actors.csv\", sep=';')\n",
    "all_spawns_df = pd.read_csv(\"resources/VerboseOcarina/spawns.csv\", sep=';')\n",
    "\n",
    "scenes = range(101)\n",
    "setups = range(11)\n",
    "cutscenes_included = (\n",
    "    False,\n",
    "    # True,\n",
    ")\n",
    "\n",
    "scc_1_count = 0\n",
    "node_count = 0\n",
    "edge_count = 0\n",
    "for scene in scenes:\n",
    "    for is_cutscene in cutscenes_included:\n",
    "        for setup in setups:\n",
    "            G_scene = ogb.build_scene_graph(all_spawns_df,\n",
    "                                            all_actors_df,\n",
    "                                            all_transition_actors_df,\n",
    "                                            scene,\n",
    "                                            setup,\n",
    "                                            is_cutscene)\n",
    "\n",
    "            if G_scene:\n",
    "                if (scc := nx.number_strongly_connected_components(G_scene)) == 1:\n",
    "                    scc_1_count += 1\n",
    "                else:\n",
    "                    print(f\"{scene = }, {setup = }, {is_cutscene = }: \"\n",
    "                          f\"{scc} strongly connected components\")\n",
    "\n",
    "                node_count += len(G_scene.nodes)\n",
    "                edge_count += len(G_scene.edges)\n",
    "\n",
    "print(f\"There are {scc_1_count} scene setups with 1 strongly connected component each.\")\n",
    "print(f\"There are {node_count} nodes in total.\")\n",
    "print(f\"There are {edge_count} edges in total.\")"
   ]
  }
 ],
 "metadata": {
  "kernelspec": {
   "display_name": "Python 3",
   "language": "python",
   "name": "python3"
  },
  "language_info": {
   "codemirror_mode": {
    "name": "ipython",
    "version": 2
   },
   "file_extension": ".py",
   "mimetype": "text/x-python",
   "name": "python",
   "nbconvert_exporter": "python",
   "pygments_lexer": "ipython2",
   "version": "2.7.6"
  }
 },
 "nbformat": 4,
 "nbformat_minor": 0
}